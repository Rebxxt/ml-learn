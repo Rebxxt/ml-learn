{
 "cells": [
  {
   "cell_type": "markdown",
   "metadata": {},
   "source": [
    "Задача классификации цветов автомобилей.\n",
    "\n",
    "Датасет Stanford Cars Dataset: https://www.kaggle.com/datasets/jessicali9530/stanford-cars-dataset\n",
    "(датасет оказался без разметки цветов, как найду, отправлю в чат и снова будет доступен)\n",
    "\n",
    "Датасет DVM: https://deepvisualmarketing.github.io/\n",
    "\n",
    "Датасет: https://www.kaggle.com/datasets/landrykezebou/vcor-vehicle-color-recognition-dataset\n",
    "\n",
    "Выбираем любой из датасетов.\n",
    "\n",
    "Ход работы:\n",
    "Использовать предобученный детектор или сегментатор, чтобы вырезать машины с картинок. Таким образом, собираем датасет вырезанных машин.\n",
    "Написать своими руками классификатор любой на выбор: ResNet, InceptionV3, DenseNet, MobileNet, ShuffleNet и обучить его на полученном датасете.\n",
    "Также взять аналогичный классификатор, но предобученный на ImageNet или на Cityscapes и дообучить на собранном датасете. Выяснить, чей классификатор лучше.\n",
    "Оценка качества производится при помощи F1_macro, желательно получить F1_macro > 0.8.\n",
    "Сравнить полученное качество и сделать вывод.\n"
   ]
  },
  {
   "cell_type": "code",
   "execution_count": null,
   "metadata": {
    "vscode": {
     "languageId": "plaintext"
    }
   },
   "outputs": [],
   "source": []
  }
 ],
 "metadata": {
  "language_info": {
   "name": "python"
  }
 },
 "nbformat": 4,
 "nbformat_minor": 2
}
